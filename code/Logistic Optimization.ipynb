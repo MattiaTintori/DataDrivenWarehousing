{
 "cells": [
  {
   "cell_type": "code",
   "execution_count": null,
   "metadata": {},
   "outputs": [],
   "source": [
    "import numpy as np\n",
    "import pandas as pd\n",
    "import geopandas as gpd\n",
    "import matplotlib.pyplot as plt\n",
    "from shapely.geometry import Point\n",
    "from itertools import product\n",
    "from math import sin, cos, asin, acos, radians\n",
    "from pulp import LpProblem, LpMinimize, LpVariable, LpBinary, lpSum, LpStatus, value\n",
    "import matplotlib.markers as mmarkers\n",
    "import matplotlib.font_manager as fm\n",
    "from matplotlib.colors import ListedColormap"
   ]
  },
  {
   "cell_type": "markdown",
   "metadata": {},
   "source": [
    "## Data preparation"
   ]
  },
  {
   "cell_type": "code",
   "execution_count": null,
   "metadata": {},
   "outputs": [],
   "source": [
    "df = pd.read_excel('../Db_Corretto.xlsx')\n",
    "df = df.rename(columns = {'Latitudine' : 'lat', 'Longitudine' : 'lng'})"
   ]
  },
  {
   "cell_type": "code",
   "execution_count": null,
   "metadata": {},
   "outputs": [],
   "source": [
    "def add_geocoordinates(df, lat='lat', lng='lng'):\n",
    "    '''\n",
    "    Add column 'geometry' with <shapely.geometry.point.Point> objects \n",
    "        built from latitude and longitude values in the input dataframe\n",
    "    \n",
    "    Args:\n",
    "        - df: input dataframe\n",
    "        - lat: name of the column containing the latitude (default: lat)\n",
    "        - lng: name of the column containing the longitude (default: lng)\n",
    "    Out:\n",
    "        - df: same dataframe enriched with a geo-coordinate column\n",
    "    '''\n",
    "    assert pd.Series([lat, lng]).isin(df.columns).all(),\\\n",
    "        f'Cannot find columns '{lat}' and/or '{lng}' in the input dataframe.'\n",
    "    return gpd.GeoDataFrame(\n",
    "        df, geometry=gpd.points_from_xy(df.lng, df.lat))"
   ]
  },
  {
   "cell_type": "code",
   "execution_count": null,
   "metadata": {},
   "outputs": [],
   "source": [
    "df = add_geocoordinates(df)"
   ]
  },
  {
   "cell_type": "code",
   "execution_count": null,
   "metadata": {},
   "outputs": [],
   "source": [
    "# Load shapefile of Italian regions and provinces\n",
    "italy_reg = gpd.read_file('../Reg01012023_g_WGS84.shp')\n",
    "italy_prov = gpd.read_file('../ProvCM01012023_g_WGS84.shp')\n",
    "\n",
    "# Check and convert CRS if needed\n",
    "if italy_reg.crs.to_string() != 'EPSG:4326':\n",
    "    italy_reg = italy_reg.to_crs('EPSG:4326')\n",
    "if italy_prov.crs.to_string() != 'EPSG:4326':\n",
    "    italy_prov = italy_prov.to_crs('EPSG:4326')\n",
    "\n",
    "# Filter the cluster provinces\n",
    "mantova = italy_prov[italy_prov['DEN_PROV'] == 'Mantova']\n",
    "pavia = italy_prov[italy_prov['DEN_PROV'] == 'Pavia']\n",
    "milano = italy_prov[italy_prov['DEN_CM'] == 'Milano']\n",
    "\n",
    "# Combine the geometries of Verona, Pavia, and Milano\n",
    "cluster_boundary = gpd.GeoSeries(pd.concat([mantova.geometry, pavia.geometry, milano.geometry])).unary_union\n",
    "\n",
    "# Generate grid of points within the cluster boundary\n",
    "# Define grid parameters (adjust these as needed)\n",
    "xmin, ymin, xmax, ymax = cluster_boundary.bounds\n",
    "grid_size = 0.07  # Grid cell size in degrees\n",
    "\n",
    "# Generate grid points\n",
    "grid_points = []\n",
    "for x, y in product(np.arange(xmin, xmax, grid_size), np.arange(ymin, ymax, grid_size)):\n",
    "    point = Point(x, y)\n",
    "    if cluster_boundary.contains(point):\n",
    "        grid_points.append(point)\n",
    "\n",
    "# Create a DataFrame with all grid points and their coordinates\n",
    "grid_data = {\n",
    "    'longitude': [point.x for point in grid_points],\n",
    "    'latitude': [point.y for point in grid_points]\n",
    "}\n",
    "grid_point = pd.DataFrame(grid_data)\n",
    "\n",
    "# Plot map\n",
    "fig, ax = plt.subplots(figsize=(30, 30))\n",
    "italy_prov.plot(ax=ax, color='lightgray', edgecolor='black')\n",
    "\n",
    "# Plot customer locations\n",
    "df.plot(ax=ax, marker='.', color='red', markersize=30, alpha=0.5, label='Customer')\n",
    "\n",
    "# Plot grid points\n",
    "ax.scatter(grid_point['longitude'], grid_point['latitude'], color='blue', alpha=0.5, label='Potential Warehouses', s=6)\n",
    "\n",
    "ax.set_xticks([])\n",
    "ax.set_yticks([])\n",
    "ax.legend(facecolor='white', title='Location')\n",
    "ax.set_title('Customer and potential warehouses')\n",
    "plt.show()\n",
    "grid_point.to_csv('grid_points_cluster.csv', index=False)"
   ]
  },
  {
   "cell_type": "code",
   "execution_count": null,
   "metadata": {},
   "outputs": [],
   "source": [
    "# Import the warehouse points with locations\n",
    "warehouses = pd.read_excel('warehouses.xlsx')\n",
    "# Import the provincies dataset\n",
    "provinces = pd.read_excel('../province.xlsx')\n",
    "provinces = provinces[['Official Name Provincia/Città metropolitana', 'Official Name Regione']].rename(columns={'Official Name Regione': 'Regione'})\n",
    "# Import the municipality dataset\n",
    "municipalities = gpd.read_file('../Com01012023_g_WGS84.shp')\n",
    "municipalities = municipalities[['COD_REG', 'COD_PROV', 'COMUNE', 'Shape_Leng', 'geometry']]\n",
    "if municipalities.crs.to_string() != 'EPSG:4326':\n",
    "    municipalities = municipalities.to_crs('EPSG:4326')"
   ]
  },
  {
   "cell_type": "code",
   "execution_count": null,
   "metadata": {},
   "outputs": [],
   "source": [
    "# Fill NAs in 'Milano' province with 'Milano'\n",
    "warehouses['Località'] = np.where((warehouses['Località'].isna()) & (warehouses['Provincia'] == 'Milano'), 'Milano', warehouses['Località'])"
   ]
  },
  {
   "cell_type": "code",
   "execution_count": null,
   "metadata": {},
   "outputs": [],
   "source": [
    "# Add the centroids to the warehouses dataframe\n",
    "centroids = pd.read_excel('centroids.xlsx')\n",
    "warehouses = pd.concat([warehouses, centroids], ignore_index = True)"
   ]
  },
  {
   "cell_type": "code",
   "execution_count": null,
   "metadata": {},
   "outputs": [],
   "source": [
    "# Drop the unnecessary columns\n",
    "warehouses.drop(columns=['CAP'], inplace=True)"
   ]
  },
  {
   "cell_type": "code",
   "execution_count": null,
   "metadata": {},
   "outputs": [],
   "source": [
    "# Join 'warehouses' and 'provinces' together\n",
    "warehouses = warehouses.join(provinces.set_index('Official Name Provincia/Città metropolitana'), on = 'Provincia')"
   ]
  },
  {
   "cell_type": "markdown",
   "metadata": {},
   "source": [
    "## Logistic companies data"
   ]
  },
  {
   "cell_type": "code",
   "execution_count": null,
   "metadata": {},
   "outputs": [],
   "source": [
    "# Import the logistic companies dataset\n",
    "logistic = pd.read_csv('numero_imprese.csv')\n",
    "# Filter based on ANNO == 2020\n",
    "logistic = logistic[logistic['ANNO'] == 2020]\n",
    "logistic = logistic[['Descrizione_Comune', 'H']]"
   ]
  },
  {
   "cell_type": "code",
   "execution_count": null,
   "metadata": {},
   "outputs": [],
   "source": [
    "# Merge the shapefile data with logistic data\n",
    "municipalities = municipalities.merge(logistic, left_on='COMUNE', right_on='Descrizione_Comune')"
   ]
  },
  {
   "cell_type": "code",
   "execution_count": null,
   "metadata": {},
   "outputs": [],
   "source": [
    "lombardia = italy_reg[italy_reg['DEN_REG'] == 'Lombardia']\n",
    "\n",
    "# Define breaks, labels and colours\n",
    "breaks = [-1, 0, 5, 10, 50, 100, 300, float('inf')]\n",
    "labels = ['0', '1-5', '6-10', '11-50', '51-100', '101-300', '301+']\n",
    "municipalities['H_cuts'] = pd.cut(municipalities['H'], bins=breaks, labels=labels, right=False)\n",
    "colors = {'0': 'white', '1-5': '#ffffcc', '6-10': '#ffeda0', '11-50': '#fec44f', \n",
    "          '51-100': '#fd8d3c', '101-300': '#fc4e2a', '301+': '#e31a1c'}\n",
    "cmap = ListedColormap(['white', '#ffffcc', '#ffeda0', '#fec44f', '#fd8d3c', '#fc4e2a', '#e31a1c'])\n",
    "\n",
    "# Plot the map\n",
    "fig, ax = plt.subplots(figsize=(14, 10), facecolor='white')\n",
    "lombardia.boundary.plot(ax=ax, linewidth=0.5, edgecolor='gray')\n",
    "\n",
    "# Plot municipalities within Lombardia with color-coded logistic companies\n",
    "municipalities[municipalities['COD_REG'] == 3].plot(ax=ax, column='H_cuts', cmap=cmap, legend=True, linewidth=0.5, edgecolor='black', legend_kwds={'loc': 'upper left'})\n",
    "\n",
    "ax.set_title('Distribution of Logistic Companies by Municipality', fontsize=20, fontweight='bold', pad=20,\n",
    "             fontdict={'fontsize': 20, 'fontweight': 'bold', 'family': 'serif', 'style': 'italic'})\n",
    "ax.set_xlabel('Longitude', fontsize=14, fontweight='normal', family='serif')\n",
    "ax.set_ylabel('Latitude', fontsize=14, fontweight='normal', family='serif')\n",
    "\n",
    "legend = ax.get_legend()\n",
    "legend.set_title('Number of Companies')\n",
    "legend.set_bbox_to_anchor((0.8, 0.8))\n",
    "legend.set_frame_on(False)\n",
    "\n",
    "ax.tick_params(axis='both', which='both', length=0)\n",
    "\n",
    "ax.spines['top'].set_visible(False)\n",
    "ax.spines['right'].set_visible(False)\n",
    "ax.spines['bottom'].set_visible(False)\n",
    "ax.spines['left'].set_visible(False)\n",
    "\n",
    "plt.savefig('Logistic_Companies.png', transparent=False)\n",
    "plt.tight_layout()\n",
    "plt.show()"
   ]
  },
  {
   "cell_type": "code",
   "execution_count": null,
   "metadata": {},
   "outputs": [],
   "source": [
    "# Merge the logistic companies data into 'warehouses'\n",
    "warehouses = warehouses.merge(logistic[['Descrizione_Comune', 'H']], left_on='Località', right_on='Descrizione_Comune', how='left')\n",
    "warehouses.drop(columns=['Descrizione_Comune'], inplace=True)"
   ]
  },
  {
   "cell_type": "code",
   "execution_count": null,
   "metadata": {},
   "outputs": [],
   "source": [
    "# Drop all the warehouses with at least a NaN\n",
    "warehouses.dropna(inplace=True)\n",
    "# Add the 'warehouse_id' column\n",
    "warehouses.insert(0, 'warehouse_id', [f'Warehouse {i+1}' for i in range(warehouses.shape[0])])"
   ]
  },
  {
   "cell_type": "markdown",
   "metadata": {},
   "source": [
    "## Workforce"
   ]
  },
  {
   "cell_type": "code",
   "execution_count": null,
   "metadata": {},
   "outputs": [],
   "source": [
    "# Import the population dataset\n",
    "population = pd.read_excel('pop.xlsx')"
   ]
  },
  {
   "cell_type": "code",
   "execution_count": null,
   "metadata": {},
   "outputs": [],
   "source": [
    "# Drop the last row\n",
    "population = population[:-1]\n",
    "# Drop the unnecessary columns\n",
    "population = population.drop(columns=['Codice comune', 'Totale maschi', 'Totale femmine'])\n",
    "# Filter rows where 'Età' is between 18 and 60\n",
    "population = population[(population['Età'] >= 18) & (population['Età'] <= 60)]"
   ]
  },
  {
   "cell_type": "code",
   "execution_count": null,
   "metadata": {},
   "outputs": [],
   "source": [
    "# Group by 'Comune' and sum\n",
    "population_sum = population.groupby('Comune')['Totale'].sum().reset_index()\n",
    "population_sum.rename(columns={'Totale': 'workers'}, inplace=True)"
   ]
  },
  {
   "cell_type": "code",
   "execution_count": null,
   "metadata": {},
   "outputs": [],
   "source": [
    "# Merge the shapefile data with workforce data\n",
    "municipalities = municipalities.merge(population_sum, left_on='COMUNE', right_on='Comune')"
   ]
  },
  {
   "cell_type": "code",
   "execution_count": null,
   "metadata": {},
   "outputs": [],
   "source": [
    "# Drop the unnecessary columns\n",
    "municipalities = municipalities.drop(columns=['Descrizione_Comune', 'Comune'])"
   ]
  },
  {
   "cell_type": "code",
   "execution_count": null,
   "metadata": {},
   "outputs": [],
   "source": [
    "# Define breaks, labels and colours\n",
    "breaks = [0, 500, 1000, 2500, 5000, 10000, 30000, float('inf')]\n",
    "labels = ['0-500', '501-1000', '1001-2500', '2501-5000', '5001-10000', '10001-30000', '30000+']\n",
    "municipalities['worker_cuts'] = pd.cut(municipalities['workers'], bins=breaks, labels=labels, right=False)\n",
    "colors = {'0-500': 'white', '501-1000': '#ffffcc', '1001-2500': '#ffeda0', '2501-5000': '#fec44f', \n",
    "          '5001-10000': '#fd8d3c', '10001-30000': '#fc4e2a', '30000+': '#e31a1c'}\n",
    "cmap = ListedColormap(['white', '#ffffcc', '#ffeda0', '#fec44f', '#fd8d3c', '#fc4e2a', '#e31a1c'])\n",
    "\n",
    "# Plot the map\n",
    "fig, ax = plt.subplots(figsize=(14, 10), facecolor='white')\n",
    "lombardia.boundary.plot(ax=ax, linewidth=0.5, edgecolor='gray')\n",
    "\n",
    "# Plot municipalities within Lombardia with color-coded cuts\n",
    "municipalities[municipalities['COD_REG'] == 3].plot(ax=ax, column='worker_cuts', cmap=cmap, legend=True, linewidth=0.5, edgecolor='black', legend_kwds={'loc': 'upper left'})\n",
    "\n",
    "\n",
    "ax.set_title('Distribution of the Workforce by Municipality', fontsize=20, fontweight='bold', pad=20,\n",
    "             fontdict={'fontsize': 20, 'fontweight': 'bold', 'family': 'serif', 'style': 'italic'})\n",
    "ax.set_xlabel('Longitude', fontsize=14, fontweight='normal', family='serif')\n",
    "ax.set_ylabel('Latitude', fontsize=14, fontweight='normal', family='serif')\n",
    "\n",
    "legend = ax.get_legend()\n",
    "legend.set_title('Workers')\n",
    "legend.set_bbox_to_anchor((0.8, 0.8))\n",
    "legend.set_frame_on(False)\n",
    "\n",
    "ax.tick_params(axis='both', which='both', length=0)\n",
    "\n",
    "ax.spines['top'].set_visible(False)\n",
    "ax.spines['right'].set_visible(False)\n",
    "ax.spines['bottom'].set_visible(False)\n",
    "ax.spines['left'].set_visible(False)\n",
    "\n",
    "plt.savefig('Workforce.png', transparent=False)\n",
    "plt.tight_layout()\n",
    "plt.show()"
   ]
  },
  {
   "cell_type": "code",
   "execution_count": null,
   "metadata": {},
   "outputs": [],
   "source": [
    "# Merge the workforce data into 'warehouses'\n",
    "warehouses = warehouses.merge(population_sum[['Comune', 'workers']], left_on='Località', right_on='Comune', how='left')\n",
    "warehouses.drop(columns=['Comune'], inplace=True)"
   ]
  },
  {
   "cell_type": "code",
   "execution_count": null,
   "metadata": {},
   "outputs": [],
   "source": [
    "# Drop all the warehouses with at least a NaN\n",
    "warehouses.dropna(inplace=True)"
   ]
  },
  {
   "cell_type": "markdown",
   "metadata": {},
   "source": [
    "## Fixed costs"
   ]
  },
  {
   "cell_type": "code",
   "execution_count": null,
   "metadata": {},
   "outputs": [],
   "source": [
    "# Create a dataset with the €/mq for every province\n",
    "cost_mq = {\n",
    "    'Province': ['Bergamo', 'Brescia', 'Como', 'Cremona', 'Lecco', 'Lodi', 'Mantova', 'Milano', 'Monza e della Brianza', 'Pavia', 'Sondrio', 'Varese'],\n",
    "    'euro_per_sqm': [1591, 2166, 2098, 1234, 1647, 1398, 1162, 3815, 2125, 1196, 1662, 1579]\n",
    "}\n",
    "cost_mq = pd.DataFrame(cost_mq)\n",
    "# Source: https://www.immobiliare.it/mercato-immobiliare/lombardia/"
   ]
  },
  {
   "cell_type": "code",
   "execution_count": null,
   "metadata": {},
   "outputs": [],
   "source": [
    "# Define the dimension of the warehouses\n",
    "dim = 1500\n",
    "# Source: https://www.wh1.com/warehouse-square-footage-tips/"
   ]
  },
  {
   "cell_type": "code",
   "execution_count": null,
   "metadata": {},
   "outputs": [],
   "source": [
    "# Calculate the fixed cost for every warehouse\n",
    "warehouses = warehouses.merge(cost_mq, left_on='Provincia', right_on='Province', how='left')\n",
    "warehouses['fixed_costs'] = warehouses['euro_per_sqm'] * dim / 25\n",
    "warehouses.drop('Province', axis=1, inplace=True)\n",
    "\n",
    "# Source: https://quickmastro.it/download/manuali/TabellaCoefficientiAmmortamenti/TABELLA%20DEI%20COEFFICIENTI%20DI%20AMMORTAMENTO.html?GruppoXVIIIIndustriedeitrasporti.html"
   ]
  },
  {
   "cell_type": "markdown",
   "metadata": {},
   "source": [
    "## Variable costs"
   ]
  },
  {
   "cell_type": "code",
   "execution_count": null,
   "metadata": {},
   "outputs": [],
   "source": [
    "def haversine_distance(lat1, lon1, lat2, lon2):\n",
    "    '''\n",
    "    Calculate distance between two locations given latitude and longitude.\n",
    "\n",
    "    Args:\n",
    "       - lat1: latitude of the first location\n",
    "       - lon1: longitude of the first location\n",
    "       - lat2: latitude of the second location\n",
    "       - lon2: longitude of the second location\n",
    "    Out:\n",
    "       - Distance in Km\n",
    "    \n",
    "    '''\n",
    "    return 6371.01 *\\\n",
    "            acos(sin(radians(lat1))*sin(radians(lat2)) +\\\n",
    "            cos(radians(lat1))*cos(radians(lat2))*cos(radians(lon1)-radians(lon2)))"
   ]
  },
  {
   "cell_type": "code",
   "execution_count": null,
   "metadata": {},
   "outputs": [],
   "source": [
    "def traveling_cost(distance_in_km):\n",
    "    '''\n",
    "    Return traveling cost in euros given a distance in Km.\n",
    "\n",
    "    Args:\n",
    "      - distance_in_km: travel distance in Km\n",
    "    Out:\n",
    "      - cost of the trip in euros\n",
    "    '''\n",
    "    return 1.203 * distance_in_km\n",
    "\n",
    "# Source: https://www.truck24.it/quanto-costa-un-trasporto-al-km-aggiornati-i-dati-a-gennaio-2024/"
   ]
  },
  {
   "cell_type": "code",
   "execution_count": null,
   "metadata": {},
   "outputs": [],
   "source": [
    "# Calculate the distances between all warehouses and customers\n",
    "transport_costs_dict = {}\n",
    "\n",
    "for i in range(warehouses.shape[0]):\n",
    "    warehouse_transport_costs_dict = {}\n",
    "\n",
    "    warehouse_id = warehouses.iloc[i]['warehouse_id']\n",
    "    print(f'Processing warehouse_id: {warehouse_id} ({i+1}/{warehouses.shape[0]})')\n",
    "\n",
    "    for j in range(df.shape[0]):\n",
    "        if warehouses.iloc[i]['Località'] == df.iloc[j]['Località']:\n",
    "            d = 0\n",
    "        else:\n",
    "            d = haversine_distance(\n",
    "                warehouses.iloc[i]['latitude'], \n",
    "                warehouses.iloc[i]['longitude'], \n",
    "                df.iloc[j]['lat'], \n",
    "                df.iloc[j]['lng']\n",
    "            )\n",
    "\n",
    "        unique_key = f'{df.iloc[j]['Cliente']}_{j}'\n",
    "        warehouse_transport_costs_dict[unique_key] = traveling_cost(d)\n",
    "\n",
    "    transport_costs_dict[warehouse_id] = warehouse_transport_costs_dict\n",
    "\n",
    "print(f'Total keys in transport_costs_dict: {len(transport_costs_dict.keys())}')"
   ]
  },
  {
   "cell_type": "code",
   "execution_count": null,
   "metadata": {},
   "outputs": [],
   "source": [
    "print(f'Number of keys in transport_costs_dict: {len(transport_costs_dict.keys())}')\n",
    "\n",
    "total_entries = sum(len(v) for v in transport_costs_dict.values())\n",
    "print(f'Total number of entries across all warehouses: {total_entries}')"
   ]
  },
  {
   "cell_type": "markdown",
   "metadata": {},
   "source": [
    "## Optimization"
   ]
  },
  {
   "cell_type": "code",
   "execution_count": null,
   "metadata": {},
   "outputs": [],
   "source": [
    "# Define the linear problem\n",
    "lp_problem = LpProblem('Warehouse Optimization', LpMinimize)\n",
    "\n",
    "# Variables\n",
    "\n",
    "# Unique_key for each customer\n",
    "unique_keys = [f\"{df.iloc[j]['Cliente']}_{j}\" for j in range(len(df))]\n",
    "\n",
    "# y_j: Binary variable indicating if warehouse j is opened\n",
    "created_facility = LpVariable.dicts(\n",
    "    'Create_facility', warehouses['warehouse_id'], cat=LpBinary)\n",
    "\n",
    "# served_customer variables using unique_key\n",
    "served_customer = LpVariable.dicts(\n",
    "    'Link', [(i, j) for i in unique_keys for j in warehouses['warehouse_id']], lowBound=0)\n",
    "\n",
    "# Contraints\n",
    "\n",
    "# Constraint: Every customer must be linked to exactly one warehouse\n",
    "for unique_key in unique_keys:\n",
    "    lp_problem += lpSum(served_customer[(unique_key, k)] for k in warehouses['warehouse_id']) == 1, f'Customer_{unique_key}_Assignment'\n",
    "\n",
    "# Constraint: Number of warehouses opened must be between 1 and 3\n",
    "lp_problem += lpSum(created_facility[j] for j in warehouses['warehouse_id']) >= 1\n",
    "lp_problem += lpSum(created_facility[j] for j in warehouses['warehouse_id']) <= 3\n",
    "\n",
    "# Constraint: Link variable should only be active if warehouse is created\n",
    "for unique_key in unique_keys:\n",
    "    for j in warehouses['warehouse_id']:\n",
    "        lp_problem += served_customer[(unique_key, j)] <= created_facility[j], f'Serving_Constraint_{unique_key}_{j}'"
   ]
  },
  {
   "cell_type": "code",
   "execution_count": null,
   "metadata": {},
   "outputs": [],
   "source": [
    "# Optimization function\n",
    "\n",
    "# Fixed costs\n",
    "fixed_costs = lpSum(warehouses.loc[j, 'fixed_costs'] * created_facility['Warehouse ' + str(j+1)] for j in range(len(warehouses)))\n",
    "objective = fixed_costs\n",
    "\n",
    "# Variable costs\n",
    "variable_costs = lpSum(transport_costs_dict[warehouse_id][unique_key] * served_customer[(unique_key, warehouse_id)] \n",
    "                       for warehouse_id in warehouses['warehouse_id'] \n",
    "                       for unique_key in unique_keys \n",
    "                       if unique_key in transport_costs_dict[warehouse_id])\n",
    "objective += variable_costs\n",
    "\n",
    "# Logistic companies\n",
    "weight_H = -50000\n",
    "warehouses['H_normal'] = (warehouses['H'] - min(warehouses['H'])) / (max(warehouses['H']) - min(warehouses['H']))\n",
    "\n",
    "logistic_companies_modifier = lpSum(\n",
    "    warehouses.loc[j, 'H_normal'] * weight_H * created_facility[warehouse_id]\n",
    "    for j, warehouse_id in enumerate(warehouses['warehouse_id'])\n",
    ")\n",
    "objective += logistic_companies_modifier\n",
    "\n",
    "# Workforce\n",
    "weight_workers = -20000\n",
    "warehouses['workers_normal'] = (warehouses['workers'] - min(warehouses['workers'])) / (max(warehouses['workers']) - min(warehouses['workers']))\n",
    "\n",
    "workforce_modifier = lpSum(\n",
    "    warehouses.loc[j, 'workers_normal'] * weight_workers * created_facility[warehouse_id]\n",
    "    for j, warehouse_id in enumerate(warehouses['warehouse_id'])\n",
    ")\n",
    "objective += workforce_modifier\n",
    "\n",
    "lp_problem += objective "
   ]
  },
  {
   "cell_type": "code",
   "execution_count": null,
   "metadata": {},
   "outputs": [],
   "source": [
    "print(f'Number of variables: {len(lp_problem.variables())}')\n",
    "print(f'Number of constraints: {len(lp_problem.constraints)}')"
   ]
  },
  {
   "cell_type": "code",
   "execution_count": null,
   "metadata": {},
   "outputs": [],
   "source": [
    "lp_problem.solve()\n",
    "\n",
    "print('Status:', LpStatus[lp_problem.status])\n",
    "print('Objective Value (Total Cost):', value(lp_problem.objective))\n",
    "\n",
    "opened_warehouses = [w for w in warehouses['warehouse_id'] if created_facility[w].varValue == 1]\n",
    "print('\\nOpened Warehouses:', opened_warehouses)"
   ]
  },
  {
   "cell_type": "code",
   "execution_count": null,
   "metadata": {},
   "outputs": [],
   "source": [
    "# Identify customers served by each warehouse\n",
    "customers_served_by_warehouse = {w: [] for w in warehouses['warehouse_id']}\n",
    "\n",
    "for warehouse_id in warehouses['warehouse_id']:\n",
    "    if created_facility[warehouse_id].varValue == 1:\n",
    "        for unique_key in unique_keys:\n",
    "            if served_customer[(unique_key, warehouse_id)].varValue > 0:\n",
    "                customers_served_by_warehouse[warehouse_id].append(unique_key)\n",
    "\n",
    "# Print customers not served by any warehouse\n",
    "not_served_customers = []\n",
    "for unique_key in unique_keys:\n",
    "    served = False\n",
    "    for warehouse_id in warehouses['warehouse_id']:\n",
    "        if created_facility[warehouse_id].varValue == 1 and served_customer[(unique_key, warehouse_id)].varValue > 0:\n",
    "            served = True\n",
    "            break\n",
    "    if not served:\n",
    "        not_served_customers.append(unique_key)\n",
    "\n",
    "print('\\nCustomers Not Served by Any Warehouse:')\n",
    "if len(not_served_customers) == 0:\n",
    "    print('All customers are served')\n",
    "\n",
    "for unique_key in not_served_customers:\n",
    "    print(f'- {unique_key}')\n",
    "\n",
    "# Count and display the number of customers served by each warehouse\n",
    "print('\\nNumber of Customers Served by Each Warehouse:')\n",
    "for warehouse_id, customers in customers_served_by_warehouse.items():\n",
    "    print(f'Warehouse {warehouse_id}: {len(customers)} customers')\n"
   ]
  },
  {
   "cell_type": "markdown",
   "metadata": {},
   "source": [
    "## Visualization"
   ]
  },
  {
   "cell_type": "code",
   "execution_count": null,
   "metadata": {},
   "outputs": [],
   "source": [
    "# Create dataframe column to store whether to build the warehouse or not \n",
    "warehouses['build_warehouse'] = ''\n",
    "\n",
    "# Assign Yes/No to the dataframe column based on the optimization binary variable\n",
    "for i in warehouses['warehouse_id']:\n",
    "    if created_facility[i].varValue == 1:\n",
    "        print('Build site at: ', i)\n",
    "        warehouses.loc[warehouses['warehouse_id'] == i, 'build_warehouse'] = 'Yes'\n",
    "    else:\n",
    "        warehouses.loc[warehouses['warehouse_id'] == i, 'build_warehouse'] = 'No'\n",
    "colors = ['#990000', '#0059b3']\n",
    "\n",
    "warehouses.build_warehouse.value_counts().plot.barh(\n",
    "  title='Warehouse sites to be established', xlabel='Number of sites', color=colors, ylabel='Establish', figsize=(7,6)) \n",
    "\n",
    "for i, v in enumerate(warehouses.build_warehouse.value_counts()):\n",
    "    plt.text(v, i, ' '+str(round(v,3)), color=colors[i], va='center', fontweight='bold')"
   ]
  },
  {
   "cell_type": "code",
   "execution_count": null,
   "metadata": {},
   "outputs": [],
   "source": [
    "# Save the final df\n",
    "warehouses.to_csv('final_warehouses.csv', index=False)"
   ]
  },
  {
   "cell_type": "code",
   "execution_count": null,
   "metadata": {},
   "outputs": [],
   "source": [
    "# Save the served customers dict\n",
    "served_customers_list = []\n",
    "\n",
    "for warehouse_id, unique_ids in customers_served_by_warehouse.items():\n",
    "    if warehouses.loc[warehouses['warehouse_id'] == warehouse_id, 'build_warehouse'].values[0] == 'Yes':\n",
    "        for unique_id in unique_ids:\n",
    "            served_customers_list.append({'unique_id': unique_id, 'warehouse_id': warehouse_id})\n",
    "\n",
    "served_customers = pd.DataFrame(served_customers_list)\n",
    "served_customers.to_csv('final_served_customers.csv', index=False)"
   ]
  },
  {
   "cell_type": "code",
   "execution_count": null,
   "metadata": {},
   "outputs": [],
   "source": [
    "warehouses = pd.read_csv('final_warehouses.csv')\n",
    "clients = pd.read_csv('final_served_customers.csv')"
   ]
  },
  {
   "cell_type": "code",
   "execution_count": null,
   "metadata": {},
   "outputs": [],
   "source": [
    "grid_point = pd.concat([grid_point, centroids], ignore_index=True)\n",
    "grid_point.drop(columns=['Località', 'Provincia', 'CAP'])"
   ]
  },
  {
   "cell_type": "code",
   "execution_count": null,
   "metadata": {},
   "outputs": [],
   "source": [
    "# Plot the map\n",
    "fig, ax = plt.subplots(figsize=(14, 10), facecolor='white')\n",
    "xmin, xmax = lombardia.bounds['minx'].min(), lombardia.bounds['maxx'].max()\n",
    "ymin, ymax = lombardia.bounds['miny'].min(), lombardia.bounds['maxy'].max()\n",
    "lombardia_prov = italy_prov[italy_prov.COD_REG == 3]\n",
    "lombardia_prov.plot(ax=ax, color='#f0f0f0', edgecolor='black', linewidth=0.2, zorder=1)\n",
    "\n",
    "# Plot grid points\n",
    "ax.scatter(grid_point.iloc[:-3]['longitude'], grid_point.iloc[:-3]['latitude'], \n",
    "           color='red', alpha=0.8, label='Discarded warehouses', s=10, \n",
    "           marker='x', zorder=2)\n",
    "\n",
    "# Filter warehouses to only those where 'build_warehouse' is 'Yes'\n",
    "built_warehouses = warehouses[warehouses['build_warehouse'] == 'Yes']\n",
    "\n",
    "# Plot built warehouses\n",
    "ax.scatter(built_warehouses['longitude'], built_warehouses['latitude'], \n",
    "           color='blue', s=50, alpha=0.8, label='Built warehouses',\n",
    "           marker=mmarkers.MarkerStyle('v', fillstyle='full'), zorder=4,\n",
    "           edgecolors='black', linewidth=1.5)\n",
    "\n",
    "# Plot the initial centroids\n",
    "ax.scatter(grid_point.iloc[-3:]['longitude'], grid_point.iloc[-3:]['latitude'], \n",
    "           color='green', alpha=0.8, label='Centroids', s=50, \n",
    "           marker='o', zorder=3)\n",
    "\n",
    "ax.set_xlim(xmin-0.1, xmax+0.1)\n",
    "ax.set_ylim(ymin-0.1, ymax+0.1)\n",
    "\n",
    "ax.tick_params(axis='both', which='both', length=0)\n",
    "\n",
    "ax.set_xlabel('Longitude', fontsize=14, fontweight='normal', family='serif')\n",
    "ax.set_ylabel('Latitude', fontsize=14, fontweight='normal', family='serif')\n",
    "ax.set_title('Possible Warehouse Locations', fontsize=20, fontweight='bold', pad=20,\n",
    "             fontdict={'fontsize': 20, 'fontweight': 'bold', 'family': 'serif', 'style': 'italic'})\n",
    "\n",
    "legend = ax.legend(loc='upper left', fontsize=12, frameon=False, shadow=True, fancybox=True,\n",
    "                   prop={'family': 'serif', 'weight': 'normal'})\n",
    "legend.get_frame().set_facecolor('white')\n",
    "legend.get_frame().set_edgecolor('#cccccc')\n",
    "\n",
    "ax.spines['top'].set_visible(False)\n",
    "ax.spines['right'].set_visible(False)\n",
    "ax.spines['bottom'].set_visible(False)\n",
    "ax.spines['left'].set_visible(False)\n",
    "\n",
    "plt.savefig('Warehouse_Location.png', transparent=False)\n",
    "plt.tight_layout()\n",
    "plt.show()"
   ]
  },
  {
   "cell_type": "code",
   "execution_count": null,
   "metadata": {},
   "outputs": [],
   "source": [
    "merged_data = pd.merge(df, clients, on='unique_id')\n",
    "# Define color map\n",
    "warehouse_ids = merged_data['warehouse_id'].unique()\n",
    "num_warehouses = len(warehouse_ids)\n",
    "color_map = plt.cm.get_cmap('bwr', num_warehouses)\n",
    "\n",
    "# Plot the map\n",
    "fig, ax = plt.subplots(figsize=(14, 10), facecolor='white')\n",
    "xmin, xmax = 6, 15\n",
    "ymin, ymax = 42, 48 \n",
    "italy_reg.plot(ax=ax, color='#f0f0f0', edgecolor='black', linewidth = 0.1)\n",
    "lombardia[lombardia.cx[xmin:xmax, ymin:ymax].notna()].plot(ax=ax, color='none', edgecolor='#505050', linewidth=0.4, zorder=3)\n",
    "lombardia_prov[lombardia_prov.cx[xmin:xmax, ymin:ymax].notna()].plot(ax=ax, color='none', edgecolor='#a0a0a0', linewidth=0.2, zorder=2)\n",
    "\n",
    "# Plot customer locations for each warehouse_id\n",
    "for i, wh_id in enumerate(warehouse_ids):\n",
    "    wh_data = merged_data[merged_data['warehouse_id'] == wh_id]\n",
    "    ax.scatter(wh_data['lng'], wh_data['lat'], \n",
    "               c=[color_map(i)] * len(wh_data),\n",
    "               s=0.5, alpha=0.6, \n",
    "               label=f'Customers ({wh_id})',\n",
    "               zorder=4)\n",
    "# Plot built warehouses\n",
    "for i, wh_id in enumerate(warehouse_ids):\n",
    "    wh_data = built_warehouses[built_warehouses['warehouse_id'] == wh_id]\n",
    "    ax.scatter(wh_data['longitude'], wh_data['latitude'], \n",
    "               color=color_map(i), s=150, alpha=0.8, label=wh_id, \n",
    "               marker=mmarkers.MarkerStyle('v', fillstyle='full'), zorder=5,\n",
    "               edgecolors='black', linewidth=1.5) \n",
    "\n",
    "\n",
    "ax.set_xlim(xmin, xmax)\n",
    "ax.set_ylim(ymin, ymax)\n",
    "\n",
    "ax.grid(False)\n",
    "ax.tick_params(axis='both', which='both', bottom=False, top=False, left=False, right=False)\n",
    "\n",
    "ax.set_xlabel('Longitude', fontdict={'fontsize': 14, 'fontweight': 'normal', 'family': 'serif'})\n",
    "ax.set_ylabel('Latitude', fontdict={'fontsize': 14, 'fontweight': 'normal', 'family': 'serif'})\n",
    "ax.set_title('Warehouse Distribution and Customer Locations', fontsize=20, fontweight='bold', pad=20,\n",
    "             fontdict={'fontsize': 20, 'fontweight': 'bold', 'family': 'serif', 'style': 'italic'})\n",
    "\n",
    "legend = ax.legend(loc='upper left', fontsize=12, frameon=False, shadow=True, fancybox=True, \n",
    "                   prop={'family': 'serif', 'weight': 'normal'})\n",
    "legend.get_frame().set_facecolor('white')\n",
    "legend.get_frame().set_edgecolor('#cccccc')\n",
    "\n",
    "ax.spines['top'].set_visible(False)    \n",
    "ax.spines['right'].set_visible(False)  \n",
    "ax.spines['bottom'].set_visible(False) \n",
    "ax.spines['left'].set_visible(False)   \n",
    "\n",
    "plt.savefig('Warehouse_Distribution.png', facecolor='white', transparent=False)\n",
    "plt.tight_layout()\n",
    "plt.show()"
   ]
  }
 ],
 "metadata": {
  "kernelspec": {
   "display_name": "base",
   "language": "python",
   "name": "python3"
  },
  "language_info": {
   "codemirror_mode": {
    "name": "ipython",
    "version": 3
   },
   "file_extension": ".py",
   "mimetype": "text/x-python",
   "name": "python",
   "nbconvert_exporter": "python",
   "pygments_lexer": "ipython3",
   "version": "3.11.9"
  }
 },
 "nbformat": 4,
 "nbformat_minor": 2
}
